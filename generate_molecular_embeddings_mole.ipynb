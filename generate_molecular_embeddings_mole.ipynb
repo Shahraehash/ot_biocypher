{
 "cells": [
  {
   "cell_type": "code",
   "execution_count": null,
   "id": "f1befcfe",
   "metadata": {
    "vscode": {
     "languageId": "plaintext"
    }
   },
   "outputs": [],
   "source": [
    "from mole import mole_predict\n",
    "import pandas as pd\n",
    "\n",
    "df = pd.read_csv(\"/data/smiles_to_embed.csv\")\n",
    "\n",
    "smiles = df[\"canonical_smiles\"].tolist()\n",
    "chembl_ids = df[\"chembl_ids\"].tolist()\n",
    "print(f\"Shape of df is: {df.shape}\")\n",
    "\n",
    "embeddings = mole_predict.encode(smiles=smiles, \n",
    "                                 pretrained_model='../results/regression_lightning_checkpoint.ckpt', \n",
    "                                 batch_size=32, \n",
    "                                 num_workers=4,\n",
    "                                 accelerator='gpu')\n",
    "print(embeddings.shape)\n",
    "print(type(embeddings))\n",
    "\n",
    "final_df = pd.DataFrame({\n",
    "    \"chembl_ids\": chembl_ids,\n",
    "    \"canonical_smiles\": smiles,\n",
    "    \"embedding\": embeddings.tolist()  # Each row will contain the full embedding as a list\n",
    "})\n",
    "\n",
    "final_df.to_csv(\"/results/chembl_smiles_with_embeddings.csv\", index=False)\n",
    "print(\"Saved to csv\")\n"
   ]
  }
 ],
 "metadata": {
  "language_info": {
   "name": "python"
  }
 },
 "nbformat": 4,
 "nbformat_minor": 5
}
